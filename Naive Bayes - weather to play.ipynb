{
 "cells": [
  {
   "cell_type": "markdown",
   "id": "ee2ad427",
   "metadata": {},
   "source": [
    "# Naive Bayes - weather to play"
   ]
  },
  {
   "cell_type": "code",
   "execution_count": 42,
   "id": "c60ba779",
   "metadata": {},
   "outputs": [],
   "source": [
    "import pandas as pd\n",
    "\n",
    "weather2play = pd.read_csv('weather-play-dataset.csv')"
   ]
  },
  {
   "cell_type": "code",
   "execution_count": 43,
   "id": "4e0d696a",
   "metadata": {},
   "outputs": [
    {
     "data": {
      "text/html": [
       "<div>\n",
       "<style scoped>\n",
       "    .dataframe tbody tr th:only-of-type {\n",
       "        vertical-align: middle;\n",
       "    }\n",
       "\n",
       "    .dataframe tbody tr th {\n",
       "        vertical-align: top;\n",
       "    }\n",
       "\n",
       "    .dataframe thead th {\n",
       "        text-align: right;\n",
       "    }\n",
       "</style>\n",
       "<table border=\"1\" class=\"dataframe\">\n",
       "  <thead>\n",
       "    <tr style=\"text-align: right;\">\n",
       "      <th></th>\n",
       "      <th>Outlook</th>\n",
       "      <th>Temp</th>\n",
       "      <th>Humidity</th>\n",
       "      <th>Windy</th>\n",
       "      <th>Class</th>\n",
       "    </tr>\n",
       "  </thead>\n",
       "  <tbody>\n",
       "    <tr>\n",
       "      <th>0</th>\n",
       "      <td>sunny</td>\n",
       "      <td>75</td>\n",
       "      <td>70</td>\n",
       "      <td>yes</td>\n",
       "      <td>Play</td>\n",
       "    </tr>\n",
       "    <tr>\n",
       "      <th>1</th>\n",
       "      <td>sunny</td>\n",
       "      <td>80</td>\n",
       "      <td>90</td>\n",
       "      <td>yes</td>\n",
       "      <td>DontPlay</td>\n",
       "    </tr>\n",
       "    <tr>\n",
       "      <th>2</th>\n",
       "      <td>sunny</td>\n",
       "      <td>85</td>\n",
       "      <td>85</td>\n",
       "      <td>no</td>\n",
       "      <td>DontPlay</td>\n",
       "    </tr>\n",
       "    <tr>\n",
       "      <th>3</th>\n",
       "      <td>sunny</td>\n",
       "      <td>72</td>\n",
       "      <td>95</td>\n",
       "      <td>no</td>\n",
       "      <td>DontPlay</td>\n",
       "    </tr>\n",
       "    <tr>\n",
       "      <th>4</th>\n",
       "      <td>sunny</td>\n",
       "      <td>69</td>\n",
       "      <td>70</td>\n",
       "      <td>no</td>\n",
       "      <td>Play</td>\n",
       "    </tr>\n",
       "    <tr>\n",
       "      <th>5</th>\n",
       "      <td>overcast</td>\n",
       "      <td>72</td>\n",
       "      <td>90</td>\n",
       "      <td>yes</td>\n",
       "      <td>Play</td>\n",
       "    </tr>\n",
       "    <tr>\n",
       "      <th>6</th>\n",
       "      <td>overcast</td>\n",
       "      <td>83</td>\n",
       "      <td>78</td>\n",
       "      <td>no</td>\n",
       "      <td>Play</td>\n",
       "    </tr>\n",
       "    <tr>\n",
       "      <th>7</th>\n",
       "      <td>overcast</td>\n",
       "      <td>64</td>\n",
       "      <td>65</td>\n",
       "      <td>yes</td>\n",
       "      <td>Play</td>\n",
       "    </tr>\n",
       "    <tr>\n",
       "      <th>8</th>\n",
       "      <td>overcast</td>\n",
       "      <td>81</td>\n",
       "      <td>75</td>\n",
       "      <td>no</td>\n",
       "      <td>Play</td>\n",
       "    </tr>\n",
       "    <tr>\n",
       "      <th>9</th>\n",
       "      <td>rain</td>\n",
       "      <td>71</td>\n",
       "      <td>80</td>\n",
       "      <td>yes</td>\n",
       "      <td>DontPlay</td>\n",
       "    </tr>\n",
       "    <tr>\n",
       "      <th>10</th>\n",
       "      <td>rain</td>\n",
       "      <td>65</td>\n",
       "      <td>70</td>\n",
       "      <td>yes</td>\n",
       "      <td>DontPlay</td>\n",
       "    </tr>\n",
       "    <tr>\n",
       "      <th>11</th>\n",
       "      <td>rain</td>\n",
       "      <td>75</td>\n",
       "      <td>80</td>\n",
       "      <td>no</td>\n",
       "      <td>Play</td>\n",
       "    </tr>\n",
       "    <tr>\n",
       "      <th>12</th>\n",
       "      <td>rain</td>\n",
       "      <td>68</td>\n",
       "      <td>80</td>\n",
       "      <td>no</td>\n",
       "      <td>Play</td>\n",
       "    </tr>\n",
       "    <tr>\n",
       "      <th>13</th>\n",
       "      <td>rain</td>\n",
       "      <td>70</td>\n",
       "      <td>96</td>\n",
       "      <td>no</td>\n",
       "      <td>Play</td>\n",
       "    </tr>\n",
       "  </tbody>\n",
       "</table>\n",
       "</div>"
      ],
      "text/plain": [
       "     Outlook  Temp  Humidity Windy     Class\n",
       "0      sunny    75        70   yes      Play\n",
       "1      sunny    80        90   yes  DontPlay\n",
       "2      sunny    85        85    no  DontPlay\n",
       "3      sunny    72        95    no  DontPlay\n",
       "4      sunny    69        70    no      Play\n",
       "5   overcast    72        90   yes      Play\n",
       "6   overcast    83        78    no      Play\n",
       "7   overcast    64        65   yes      Play\n",
       "8   overcast    81        75    no      Play\n",
       "9       rain    71        80   yes  DontPlay\n",
       "10      rain    65        70   yes  DontPlay\n",
       "11      rain    75        80    no      Play\n",
       "12      rain    68        80    no      Play\n",
       "13      rain    70        96    no      Play"
      ]
     },
     "execution_count": 43,
     "metadata": {},
     "output_type": "execute_result"
    }
   ],
   "source": [
    "weather2play"
   ]
  },
  {
   "cell_type": "markdown",
   "id": "75f56610",
   "metadata": {},
   "source": [
    "## Data wrangling\n",
    "Categorize temperature to _Low_, _Medium_, _High_"
   ]
  },
  {
   "cell_type": "code",
   "execution_count": 44,
   "id": "0d148692",
   "metadata": {},
   "outputs": [
    {
     "data": {
      "text/html": [
       "<div>\n",
       "<style scoped>\n",
       "    .dataframe tbody tr th:only-of-type {\n",
       "        vertical-align: middle;\n",
       "    }\n",
       "\n",
       "    .dataframe tbody tr th {\n",
       "        vertical-align: top;\n",
       "    }\n",
       "\n",
       "    .dataframe thead th {\n",
       "        text-align: right;\n",
       "    }\n",
       "</style>\n",
       "<table border=\"1\" class=\"dataframe\">\n",
       "  <thead>\n",
       "    <tr style=\"text-align: right;\">\n",
       "      <th></th>\n",
       "      <th>Outlook</th>\n",
       "      <th>Temp</th>\n",
       "      <th>Humidity</th>\n",
       "      <th>Windy</th>\n",
       "      <th>Class</th>\n",
       "    </tr>\n",
       "  </thead>\n",
       "  <tbody>\n",
       "    <tr>\n",
       "      <th>0</th>\n",
       "      <td>sunny</td>\n",
       "      <td>75</td>\n",
       "      <td>Low</td>\n",
       "      <td>yes</td>\n",
       "      <td>Play</td>\n",
       "    </tr>\n",
       "    <tr>\n",
       "      <th>1</th>\n",
       "      <td>sunny</td>\n",
       "      <td>80</td>\n",
       "      <td>High</td>\n",
       "      <td>yes</td>\n",
       "      <td>DontPlay</td>\n",
       "    </tr>\n",
       "    <tr>\n",
       "      <th>2</th>\n",
       "      <td>sunny</td>\n",
       "      <td>85</td>\n",
       "      <td>Medium</td>\n",
       "      <td>no</td>\n",
       "      <td>DontPlay</td>\n",
       "    </tr>\n",
       "    <tr>\n",
       "      <th>3</th>\n",
       "      <td>sunny</td>\n",
       "      <td>72</td>\n",
       "      <td>High</td>\n",
       "      <td>no</td>\n",
       "      <td>DontPlay</td>\n",
       "    </tr>\n",
       "    <tr>\n",
       "      <th>4</th>\n",
       "      <td>sunny</td>\n",
       "      <td>69</td>\n",
       "      <td>Low</td>\n",
       "      <td>no</td>\n",
       "      <td>Play</td>\n",
       "    </tr>\n",
       "    <tr>\n",
       "      <th>5</th>\n",
       "      <td>overcast</td>\n",
       "      <td>72</td>\n",
       "      <td>High</td>\n",
       "      <td>yes</td>\n",
       "      <td>Play</td>\n",
       "    </tr>\n",
       "    <tr>\n",
       "      <th>6</th>\n",
       "      <td>overcast</td>\n",
       "      <td>83</td>\n",
       "      <td>Medium</td>\n",
       "      <td>no</td>\n",
       "      <td>Play</td>\n",
       "    </tr>\n",
       "    <tr>\n",
       "      <th>7</th>\n",
       "      <td>overcast</td>\n",
       "      <td>64</td>\n",
       "      <td>Low</td>\n",
       "      <td>yes</td>\n",
       "      <td>Play</td>\n",
       "    </tr>\n",
       "    <tr>\n",
       "      <th>8</th>\n",
       "      <td>overcast</td>\n",
       "      <td>81</td>\n",
       "      <td>Low</td>\n",
       "      <td>no</td>\n",
       "      <td>Play</td>\n",
       "    </tr>\n",
       "    <tr>\n",
       "      <th>9</th>\n",
       "      <td>rain</td>\n",
       "      <td>71</td>\n",
       "      <td>Medium</td>\n",
       "      <td>yes</td>\n",
       "      <td>DontPlay</td>\n",
       "    </tr>\n",
       "    <tr>\n",
       "      <th>10</th>\n",
       "      <td>rain</td>\n",
       "      <td>65</td>\n",
       "      <td>Low</td>\n",
       "      <td>yes</td>\n",
       "      <td>DontPlay</td>\n",
       "    </tr>\n",
       "    <tr>\n",
       "      <th>11</th>\n",
       "      <td>rain</td>\n",
       "      <td>75</td>\n",
       "      <td>Medium</td>\n",
       "      <td>no</td>\n",
       "      <td>Play</td>\n",
       "    </tr>\n",
       "    <tr>\n",
       "      <th>12</th>\n",
       "      <td>rain</td>\n",
       "      <td>68</td>\n",
       "      <td>Medium</td>\n",
       "      <td>no</td>\n",
       "      <td>Play</td>\n",
       "    </tr>\n",
       "    <tr>\n",
       "      <th>13</th>\n",
       "      <td>rain</td>\n",
       "      <td>70</td>\n",
       "      <td>High</td>\n",
       "      <td>no</td>\n",
       "      <td>Play</td>\n",
       "    </tr>\n",
       "  </tbody>\n",
       "</table>\n",
       "</div>"
      ],
      "text/plain": [
       "     Outlook  Temp Humidity Windy     Class\n",
       "0      sunny    75      Low   yes      Play\n",
       "1      sunny    80     High   yes  DontPlay\n",
       "2      sunny    85   Medium    no  DontPlay\n",
       "3      sunny    72     High    no  DontPlay\n",
       "4      sunny    69      Low    no      Play\n",
       "5   overcast    72     High   yes      Play\n",
       "6   overcast    83   Medium    no      Play\n",
       "7   overcast    64      Low   yes      Play\n",
       "8   overcast    81      Low    no      Play\n",
       "9       rain    71   Medium   yes  DontPlay\n",
       "10      rain    65      Low   yes  DontPlay\n",
       "11      rain    75   Medium    no      Play\n",
       "12      rain    68   Medium    no      Play\n",
       "13      rain    70     High    no      Play"
      ]
     },
     "execution_count": 44,
     "metadata": {},
     "output_type": "execute_result"
    }
   ],
   "source": [
    "bins = pd.IntervalIndex.from_tuples([(0, 75), (75, 85),(85,100)])\n",
    "interval_labels = ['Low','Medium','High']\n",
    "#weather2play[\"HumidityGroup\"] = pd.cut(weather2play['Humidity'], bins=interval, right=False, labels=interval_labels)\n",
    "# doesn't work as expected due to the bug described here https://github.com/pandas-dev/pandas/issues/21233\n",
    "interval = dict(zip(bins,interval_labels))\n",
    "weather2play[\"Humidity\"] = pd.cut(weather2play['Humidity'],bins).map(interval)\n",
    "weather2play\n"
   ]
  },
  {
   "cell_type": "code",
   "execution_count": 45,
   "id": "5b4f58c5",
   "metadata": {
    "scrolled": true
   },
   "outputs": [
    {
     "data": {
      "text/plain": [
       "Outlook\n",
       "rain        5\n",
       "sunny       5\n",
       "overcast    4\n",
       "dtype: int64"
      ]
     },
     "execution_count": 45,
     "metadata": {},
     "output_type": "execute_result"
    }
   ],
   "source": [
    "weather2play.value_counts('Outlook')"
   ]
  },
  {
   "cell_type": "code",
   "execution_count": 47,
   "id": "c4b926fb",
   "metadata": {},
   "outputs": [
    {
     "data": {
      "text/plain": [
       "Class\n",
       "Play        9\n",
       "DontPlay    5\n",
       "dtype: int64"
      ]
     },
     "execution_count": 47,
     "metadata": {},
     "output_type": "execute_result"
    }
   ],
   "source": [
    "weather2play.value_counts('Class')"
   ]
  },
  {
   "cell_type": "code",
   "execution_count": 48,
   "id": "a325d0d2",
   "metadata": {},
   "outputs": [
    {
     "data": {
      "text/plain": [
       "Class     Outlook \n",
       "Play      overcast    4\n",
       "DontPlay  sunny       3\n",
       "Play      rain        3\n",
       "DontPlay  rain        2\n",
       "Play      sunny       2\n",
       "dtype: int64"
      ]
     },
     "execution_count": 48,
     "metadata": {},
     "output_type": "execute_result"
    }
   ],
   "source": [
    "weather2play.value_counts(['Class','Outlook'])"
   ]
  },
  {
   "cell_type": "code",
   "execution_count": 49,
   "id": "d41dfd5a",
   "metadata": {},
   "outputs": [
    {
     "data": {
      "text/plain": [
       "Outlook   Class   \n",
       "overcast  Play        4\n",
       "rain      Play        3\n",
       "sunny     DontPlay    3\n",
       "rain      DontPlay    2\n",
       "sunny     Play        2\n",
       "dtype: int64"
      ]
     },
     "execution_count": 49,
     "metadata": {},
     "output_type": "execute_result"
    }
   ],
   "source": [
    "weather2play.value_counts(['Outlook','Class'])"
   ]
  },
  {
   "cell_type": "code",
   "execution_count": 102,
   "id": "c47ca95c",
   "metadata": {
    "scrolled": false
   },
   "outputs": [
    {
     "name": "stdout",
     "output_type": "stream",
     "text": [
      "## Probability of class\n",
      "Class\n",
      "Play        0.642857\n",
      "DontPlay    0.357143\n",
      "dtype: float64\n",
      "## Probability of outlook\n",
      "Outlook\n",
      "rain        0.357143\n",
      "sunny       0.357143\n",
      "overcast    0.285714\n",
      "dtype: float64\n",
      "## Probability of Humidity\n",
      "Humidity\n",
      "Low       0.357143\n",
      "Medium    0.357143\n",
      "High      0.285714\n",
      "dtype: float64\n",
      "## Probability of Wind\n",
      "Windy\n",
      "no     0.571429\n",
      "yes    0.428571\n",
      "dtype: float64\n"
     ]
    }
   ],
   "source": [
    "sample_size=len(weather2play)\n",
    "\n",
    "p['Class']=weather2play.value_counts('Class')/sample_size\n",
    "print(\"## Probability of class\")\n",
    "print (p['Class'])\n",
    "p['Outlook']=weather2play.value_counts('Outlook')/sample_size\n",
    "print(\"## Probability of outlook\")\n",
    "print (p['Outlook'])\n",
    "p['Humidity']=weather2play.value_counts('Humidity')/sample_size\n",
    "print(\"## Probability of Humidity\")\n",
    "print (p['Humidity'])\n",
    "p['Windy']=weather2play.value_counts('Windy')/sample_size\n",
    "print(\"## Probability of Wind\")\n",
    "print (p['Windy'])"
   ]
  },
  {
   "cell_type": "code",
   "execution_count": 112,
   "id": "3bedc265",
   "metadata": {},
   "outputs": [
    {
     "data": {
      "text/plain": [
       "0.6428571428571429"
      ]
     },
     "execution_count": 112,
     "metadata": {},
     "output_type": "execute_result"
    }
   ],
   "source": [
    "weather2play.value_counts(['Class','Outlook'])\n",
    "p['Class']['Play']"
   ]
  },
  {
   "cell_type": "raw",
   "id": "43ce40db",
   "metadata": {},
   "source": [
    "p['Class and Outlook']=weather2play.value_counts(['Class','Outlook'])/sample_size\n",
    "# Probability of outlook knowing play\n",
    "p['Outlook knowing Play']=p['Class and Outlook']['Play']/p['Class']['Play']\n",
    "print ('p[\"Outlook knowing Play\"] = p[\"Class and Outlook\"][\"Play\"] / p[\"Class\"][\"Play\"]')\n",
    "print (str(p['Outlook knowing Play'])+\" = \"+str(p['Class and Outlook'])+\" / \"+str(p['Class']['Play']))\n",
    "\n",
    "count_humidity_and_Class=weather2play.value_counts(['Class','Humidity'])\n",
    "# Probability of Humidity knowing play\n",
    "p_humidity_knowing_play=(count_humidity_and_Class['Play']/sample_size)/p['Class']['Play']\n",
    "print (p_humidity_knowing_play)\n",
    "\n",
    "count_wind_and_Class=weather2play.value_counts(['Class','Windy'])\n",
    "# Probability of Windy knowing play\n",
    "p_wind_knowing_play=(count_wind_and_Class['Play']/sample_size)/p['Class']['Play']\n",
    "print (p_wind_knowing_play)\n"
   ]
  },
  {
   "cell_type": "code",
   "execution_count": 116,
   "id": "a762bf82",
   "metadata": {},
   "outputs": [
    {
     "name": "stdout",
     "output_type": "stream",
     "text": [
      "P(Play|overcast) = P(overcast|play) * P(Play) / P(overcast)\n",
      "1.0 = 0.44444444444444436 * 0.6428571428571429 / 0.2857142857142857\n"
     ]
    }
   ],
   "source": [
    "p_play_knowing_overcast= p['Outlook knowing Play']['overcast'] * p['Class']['Play'] / p['Outlook']['overcast']\n",
    "print(\"P(Play|overcast) = P(overcast|play) * P(Play) / P(overcast)\")\n",
    "print(str(p_play_knowing_overcast)+\" = \"\n",
    "      +str(p['Outlook knowing Play']['overcast'])\n",
    "      +\" * \"+str(p['Class']['Play'])\n",
    "      +\" / \"+str(p['Outlook']['overcast']))"
   ]
  },
  {
   "cell_type": "code",
   "execution_count": 101,
   "id": "eecdf29b",
   "metadata": {},
   "outputs": [
    {
     "name": "stdout",
     "output_type": "stream",
     "text": [
      "P(Play|wind) = P(wind|play) * P(Play) / P(wind)\n",
      "0.5000000000000001 = 0.3333333333333333 * 0.6428571428571429 / 0.42857142857142855\n"
     ]
    }
   ],
   "source": [
    "p_play_knowing_wind= p_wind_knowing_play['yes'] * p_class['Play'] / p_wind['yes']\n",
    "print(\"P(Play|wind) = P(wind|play) * P(Play) / P(wind)\")\n",
    "print(str(p_play_knowing_wind)+\" = \"\n",
    "      +str(p_wind_knowing_play['yes'])\n",
    "      +\" * \"+str(p_class['Play'])\n",
    "      +\" / \"+str(p_wind['yes']))"
   ]
  },
  {
   "cell_type": "code",
   "execution_count": 135,
   "id": "817a8bb0",
   "metadata": {},
   "outputs": [],
   "source": [
    "def p_of_A_and_B(A,B):\n",
    "    \"\"\"\n",
    "    P(A and B)\n",
    "    \n",
    "    >>> p_of_A_and_B(A,B)\n",
    "    \"\"\"\n",
    "    # weather2play is global yeark!\n",
    "    return weather2play.value_counts([A,B]) / len(weather2play)\n",
    "\n",
    "\n",
    "def p_of_A_eq_a_knowing_B_eq_b (A,a,B,b):\n",
    "    \"\"\"\n",
    "    simplified Naive Bayes classifier\n",
    "    P(A=a|B=b) = P(B=b|A=a) * P(A=a) / P(B=b)\n",
    "    \n",
    "    p_of_A_eq_a_knowing_B_eq_b('Class','Play','Outlook','overcast')\n",
    "    \"\"\"\n",
    "    # P(A and B)\n",
    "    p[B+' and '+A]=p_of_A_and_B(A,B)\n",
    "    # P(B|A=a) = P(A and B) / P(A)\n",
    "    p[B+' knowing '+A+'='+a] = p[B+' and '+A][a] / p[A][a]\n",
    "    # return P(A=a|B=b) = P(B=b|A=a) * P(A=a) / P(B=b)\n",
    "    return p[B+' knowing '+A+'='+a][b] * p[A][a] / p[B][b]\n",
    "\n",
    "\n",
    "def naive_bayes(matrix):\n",
    "    \"\"\"\n",
    "    Naive Bayes classifier\n",
    "    WIP\n",
    "    naive_bayes(weather2play)\n",
    "    \"\"\"\n",
    "    sample_size = len(matrix)\n",
    "    for row in matrix:\n",
    "        p[i]=matrix.value_counts(i)/sample_size\n",
    "        p[i,j]\n",
    "    return \"coucou\"\n",
    "    \n",
    "    "
   ]
  },
  {
   "cell_type": "code",
   "execution_count": 128,
   "id": "ceeabe69",
   "metadata": {},
   "outputs": [
    {
     "data": {
      "text/plain": [
       "1.0"
      ]
     },
     "execution_count": 128,
     "metadata": {},
     "output_type": "execute_result"
    }
   ],
   "source": [
    "p_of_A_eq_a_knowing_B_eq_b('Class','Play','Outlook','overcast')"
   ]
  },
  {
   "cell_type": "code",
   "execution_count": 129,
   "id": "8afb049f",
   "metadata": {},
   "outputs": [
    {
     "name": "stdout",
     "output_type": "stream",
     "text": [
      "P(A=a|B=b) = P(B=b|A=a) * P(A=a) / P(B=b)\n"
     ]
    },
    {
     "data": {
      "text/plain": [
       "0.5000000000000001"
      ]
     },
     "execution_count": 129,
     "metadata": {},
     "output_type": "execute_result"
    }
   ],
   "source": [
    "print(\"P(A=a|B=b) = P(B=b|A=a) * P(A=a) / P(B=b)\")\n",
    "p_of_A_eq_a_knowing_B_eq_b('Class','Play','Windy','yes')"
   ]
  },
  {
   "cell_type": "code",
   "execution_count": 130,
   "id": "46ee3d99",
   "metadata": {},
   "outputs": [
    {
     "data": {
      "text/plain": [
       "Outlook\n",
       "rain                                                                   0.357143\n",
       "sunny                                                                  0.357143\n",
       "overcast                                                               0.285714\n",
       "Class                         Class\n",
       "Play        0.642857\n",
       "DontPlay    0.35714...\n",
       "Outlook                       Outlook\n",
       "rain        0.357143\n",
       "sunny       0.357...\n",
       "Humidity                      Humidity\n",
       "Low       0.357143\n",
       "Medium    0.357143...\n",
       "Windy                         Windy\n",
       "no     0.571429\n",
       "yes    0.428571\n",
       "dtype: f...\n",
       "Class and Outlook             Class     Outlook \n",
       "Play      overcast    0.285...\n",
       "Outlook knowing Play          Outlook\n",
       "overcast    0.444444\n",
       "rain        0.333...\n",
       "Outlook and Class             Class     Outlook \n",
       "Play      overcast    0.285...\n",
       "Outlook knowing Class=Play    Outlook\n",
       "overcast    0.444444\n",
       "rain        0.333...\n",
       "Windy and Class               Class     Windy\n",
       "Play      no       0.428571\n",
       "Do...\n",
       "Windy knowing Class=Play      Windy\n",
       "no     0.666667\n",
       "yes    0.333333\n",
       "dtype: f...\n",
       "dtype: object"
      ]
     },
     "execution_count": 130,
     "metadata": {},
     "output_type": "execute_result"
    }
   ],
   "source": [
    "p"
   ]
  },
  {
   "cell_type": "code",
   "execution_count": 125,
   "id": "6c1f34ed",
   "metadata": {},
   "outputs": [
    {
     "data": {
      "text/plain": [
       "14"
      ]
     },
     "execution_count": 125,
     "metadata": {},
     "output_type": "execute_result"
    }
   ],
   "source": []
  },
  {
   "cell_type": "code",
   "execution_count": null,
   "id": "a0947874",
   "metadata": {},
   "outputs": [],
   "source": [
    "import "
   ]
  }
 ],
 "metadata": {
  "kernelspec": {
   "display_name": "Python 3 (ipykernel)",
   "language": "python",
   "name": "python3"
  },
  "language_info": {
   "codemirror_mode": {
    "name": "ipython",
    "version": 3
   },
   "file_extension": ".py",
   "mimetype": "text/x-python",
   "name": "python",
   "nbconvert_exporter": "python",
   "pygments_lexer": "ipython3",
   "version": "3.9.7"
  }
 },
 "nbformat": 4,
 "nbformat_minor": 5
}
