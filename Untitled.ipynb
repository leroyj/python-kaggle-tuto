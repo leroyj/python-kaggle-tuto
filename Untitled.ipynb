{
 "cells": [
  {
   "cell_type": "markdown",
   "id": "51ac9112",
   "metadata": {},
   "source": [
    "# Mon premier Notebook"
   ]
  },
  {
   "cell_type": "markdown",
   "id": "f2dd8ab0",
   "metadata": {},
   "source": [
    "Ce notebook a pour vocation de démarer mes tests avec Kaggle"
   ]
  },
  {
   "cell_type": "code",
   "execution_count": 4,
   "id": "2fe423de",
   "metadata": {},
   "outputs": [
    {
     "name": "stdout",
     "output_type": "stream",
     "text": [
      "Setup test\n",
      "/Users/jleroy/Documents/dev/python-kaggle-tuto\n"
     ]
    }
   ],
   "source": [
    "import os\n",
    "print(\"Setup test\")\n",
    "# dir(os)\n",
    "pwd=os.getcwd()\n",
    "print (pwd) "
   ]
  },
  {
   "cell_type": "code",
   "execution_count": null,
   "id": "e39c7e6c",
   "metadata": {},
   "outputs": [],
   "source": []
  }
 ],
 "metadata": {
  "kernelspec": {
   "display_name": "Python 3 (ipykernel)",
   "language": "python",
   "name": "python3"
  },
  "language_info": {
   "codemirror_mode": {
    "name": "ipython",
    "version": 3
   },
   "file_extension": ".py",
   "mimetype": "text/x-python",
   "name": "python",
   "nbconvert_exporter": "python",
   "pygments_lexer": "ipython3",
   "version": "3.9.7"
  }
 },
 "nbformat": 4,
 "nbformat_minor": 5
}
